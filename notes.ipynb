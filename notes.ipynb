{
 "cells": [
  {
   "cell_type": "markdown",
   "metadata": {
    "deletable": true,
    "editable": true
   },
   "source": [
    "# Simple Equation\n",
    "\n",
    "Let us now implement the following equation:\n",
    "$$ y = x^2$$\n",
    "\n",
    "where $x = 2$"
   ]
  },
  {
   "cell_type": "code",
   "execution_count": 1,
   "metadata": {
    "collapsed": false,
    "deletable": true,
    "editable": true
   },
   "outputs": [
    {
     "name": "stdout",
     "output_type": "stream",
     "text": [
      "4\n"
     ]
    }
   ],
   "source": [
    "x = 2\n",
    "y = x*x\n",
    "print y"
   ]
  },
  {
   "cell_type": "markdown",
   "metadata": {
    "deletable": true,
    "editable": true
   },
   "source": [
    "# Install Software\n",
    "\n",
    "Virtual Environment:\n",
    "\n",
    "    easy_install virtualenv\n",
    "    virtualenv ~/env\n",
    "    source env/bin/activate"
   ]
  },
  {
   "cell_type": "markdown",
   "metadata": {
    "deletable": true,
    "editable": true
   },
   "source": [
    "Install readline:\n",
    "\n",
    "    cd software-dl/\n",
    "    wget -nv https://ftp.gnu.org/gnu/readline/readline-7.0.tar.gz\n",
    "    tar -xzvf readline-7.0.tar.gz \n",
    "    cd readline-7.0\n",
    "    ./configure --prefix=/home8/rlim/software-dl\n",
    "    make\n",
    "    make install"
   ]
  },
  {
   "cell_type": "markdown",
   "metadata": {},
   "source": [
    "Load modules:\n",
    "\n",
    "    module load cmake/3.0.1 \n",
    "    module load cuda/8.0\n",
    "    module load gcc/4.8"
   ]
  },
  {
   "cell_type": "markdown",
   "metadata": {},
   "source": [
    "Install torch:\n",
    "\n",
    "    git clone https://github.com/torch/distro.git\n",
    "    ls\n",
    "    mv distro/ torch_local\n",
    "    cd torch_local/\n",
    "    CC=/usr/local/packages/gcc/4.8/bin/gcc CXX=/usr/local/packages/gcc/4.8/bin/g++ TORCH_LUA_VERSION=LUA53 ./install.sh"
   ]
  },
  {
   "cell_type": "markdown",
   "metadata": {},
   "source": [
    "Useful commands:\n",
    "    \n",
    "    luarocks path"
   ]
  },
  {
   "cell_type": "markdown",
   "metadata": {},
   "source": [
    "Environment variables:\n",
    "    \n",
    "    export LUA_PATH='/home8/rlim/repos/torch_local/install/share/lua/5.3/?.lua;/home8/rlim/repos/torch_local/install/share/lua/5.3/?/init.lua'\n",
    "    export LUA_CPATH='/home8/rlim/repos/torch_local/install/lib/lua/5.3/?.so;/home8/rlim/repos/torch_local/install/lib/?.so'\n",
    "    export LIBRARY_PATH=$LD_LIBRARY_PATH"
   ]
  },
  {
   "cell_type": "markdown",
   "metadata": {},
   "source": [
    "At this point, Torch/Lua should be running properly.  Install packages:\n",
    "\n",
    "    luarocks install nn\n",
    "    luarocks install nngraph\n",
    "    luarocks install image\n",
    "    luarocks install cutorch\n",
    "    luarocks install cunn"
   ]
  },
  {
   "cell_type": "markdown",
   "metadata": {},
   "source": [
    "Install protobuf (takes a while to complete install):\n",
    "    \n",
    "    cd ~/repos/\n",
    "    git clone https://github.com/google/protobuf.git\n",
    "    cd protobuf/\n",
    "    ./autogen.sh \n",
    "    ./configure --prefix=/home8/rlim/software-dl\n",
    "    make\n",
    "    make test\n",
    "    make check\n",
    "    make install"
   ]
  },
  {
   "cell_type": "markdown",
   "metadata": {},
   "source": [
    "Install loadcaffe:\n",
    "\n",
    "    CC=/usr/local/packages/gcc/4.8/bin/gcc CXX=/usr/local/packages/gcc/4.8/bin/g++  CMAKE_LIBRARY_PATH=/home8/rlim/software-dl/lib CMAKE_INCLUDE_PATH=/home8/rlim/software-dl/include luarocks install loadcaffe"
   ]
  },
  {
   "cell_type": "markdown",
   "metadata": {},
   "source": [
    "    git clone https://github.com/deepmind/torch-hdf5.git\n",
    "\n",
    "    source ~/env/bin/activate\n",
    "    pip install h5py\n",
    "    cd ~/repos/torch-hdf5/\n",
    "    cmake -DCMAKE_LIBRARY_PATH=/home8/rlim/env/lib/python2.7/site-packages/h5py .\n",
    "\n",
    "    CMAKE_LIBRARY_PATH=/opt/ParaTools/anaconda2/4.0.0/lib CMAKE_INCLUDE_PATH=/opt/ParaTools/anaconda2/4.0.0/include luarocks install hdf5"
   ]
  },
  {
   "cell_type": "code",
   "execution_count": null,
   "metadata": {
    "collapsed": true
   },
   "outputs": [],
   "source": []
  }
 ],
 "metadata": {
  "kernelspec": {
   "display_name": "Python 2",
   "language": "python",
   "name": "python2"
  },
  "language_info": {
   "codemirror_mode": {
    "name": "ipython",
    "version": 2
   },
   "file_extension": ".py",
   "mimetype": "text/x-python",
   "name": "python",
   "nbconvert_exporter": "python",
   "pygments_lexer": "ipython2",
   "version": "2.7.10"
  }
 },
 "nbformat": 4,
 "nbformat_minor": 2
}
